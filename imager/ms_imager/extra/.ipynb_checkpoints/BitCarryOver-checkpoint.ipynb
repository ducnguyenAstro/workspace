{
 "cells": [
  {
   "cell_type": "code",
   "execution_count": 76,
   "metadata": {},
   "outputs": [
    {
     "name": "stdout",
     "output_type": "stream",
     "text": [
      "0000000001010011,0000000001010110,0000000001010111,0000000001010011,0000000001010001,0000000001010010,0000000001010010,0000000001010101,0000000001010011,0000000001011000,0000000001011001,0000000001011000,0000000001011001,0000000001010111,0000000001010111,0000000001010100,0000000001010100,0000000001010001,0000000001010100,0000000001010001,0000000001010000,0000000001001101,0000000001010001,0000000001001101\n",
      "Elapsed time: 30.9104399681 seconds\n"
     ]
    }
   ],
   "source": [
    "import numpy as np\n",
    "import glob\n",
    "import os\n",
    "from PIL import Image\n",
    "import time\n",
    "\n",
    "\n",
    "def bitPadding(str1,str2,N):   \n",
    "    # padding n ending chars of str1 to the beginning of str2, keep the length of str2\n",
    "    tmpStr = str1+str2\n",
    "    return tmpStr[len(str1) - N : len(str1) - N + len(str2) ]\n",
    "\n",
    "def framePadding(fr1,fr2,N): # (string) frame length = 96 (12 * 8) \n",
    "    L = len(fr1) # = len(fr2)\n",
    "    Pix = ''\n",
    "    for i in range(L//12):\n",
    "        #Pix += bitPadding(fr1[i*12:(i+1)*12],fr2[i*12:(i+1)*12],N)\n",
    "        tmpStr = fr1[i*12:(i+1)*12] + fr2[i*12:(i+1)*12]\n",
    "        Pix += tmpStr[12-N:24-N]\n",
    "\n",
    "\n",
    "    return Pix\n",
    "    \n",
    "def rightCarryOver(tiffLine,N):  # Carry over 8 pixel for one line\n",
    "    #tiffLine: ndarray\n",
    "    orgStr = ''.join([np.binary_repr(i>>4, width=12) for i in tiffLine])   # original 12bit sequence\n",
    "    \n",
    "    #carrying bits over next 8 pixel = 96 bits \n",
    "    newStr = orgStr[:96]    #keep first pixel, transerve from second set of 8 pixels\n",
    "    #print(newStr)\n",
    "    #print('org string length ={}'.format(len(orgStr)))\n",
    "    \n",
    "    for i in range(1, len(orgStr)//96):     # each 8 pixels \n",
    "        fr1 = orgStr[(i-1)*96 : i*96]\n",
    "        fr2 = orgStr[i*96 : (i+1)*96]\n",
    "        newStr += framePadding(fr1,fr2,N)\n",
    "\n",
    "    #print(newStr)\n",
    "    #print('new string length ={}'.format(len(newStr)))\n",
    "\n",
    "    #convert bit strings back to 16it Int\n",
    "    out16Arr = np.array([],dtype=np.int16)\n",
    "    for i in range(len(newStr)//12):\n",
    "        #rint(int(newStr[12*i : 12 *(i+1)],2)*16)\n",
    "        out16Arr = np.append(out16Arr, int(newStr[12*i : 12 *(i+1)],2)*16)\n",
    "    \n",
    "    return out16Arr\n",
    "\n",
    "def bitRightCO(tiffFile,N):\n",
    "    # tiffFile(16bit) image\n",
    "    # nOfBits: number of shifted bits to the right\n",
    "    \n",
    "    #load TiffImage\n",
    "    img = Image.open(tiffFile)\n",
    "    inArr = np.array(img)\n",
    "    [row,col] = inArr.shape\n",
    "    print(row,col)\n",
    "    #print(inArr[0,:8])\n",
    "\n",
    "    #print('mean = {}, min = {}'.format(inArr.mean(), inArr.min()))\n",
    "    \n",
    "    outArr = np.zeros(0, dtype=np.int16)     # initialize the output Image ndarray\n",
    "    for i in range(row):\n",
    "        #print (rightShiftInLine(inArr[i,:],nOfBits))\n",
    "        outArr = np.append(outArr,rightCarryOver(inArr[i,:],N))\n",
    "    \n",
    "    #print(outArr[0,:8])\n",
    "    #print(outArr) \n",
    "    \n",
    "    return outArr    # 16 bit data nparray\n",
    "\n",
    "def main():\n",
    "    N = 5\n",
    "    tiffFile = '/home/usrp/workspace/imager/ms_imager/raw_files/sensor1_E160_G5_Modesto4.tiff'\n",
    "    \n",
    "    corrected_data = bitRightCO(tiffFile, N)\n",
    "    corrected_data.astype('int16').tofile(tiffFile[:-5] + '.16b_C0')\n",
    "\n",
    "    command = \"raw2tiff -w 10000 -l 7096 -c lzw:2 -d short -M \" #.format(col,row)\n",
    "    command += tiffFile[:-5] + '.16b_C0' + \" \"\n",
    "    command += tiffFile[:-5] + \"_{}bitCO.tiff\".format(N)\n",
    "    print(command)\n",
    "    rc = os.system(command)\n",
    "    if rc!=0:\n",
    "        print('Non succeed')\n",
    "    else:\n",
    "        print('Suceeded!!')\n",
    "\n",
    "  \n",
    "if __name__ == \"__main__\":\n",
    "    t1 = time.time()\n",
    "    tiffFile = '/home/usrp/workspace/imager/ms_imager/raw_files/sensor1_E160_G5_Modesto4.tiff'   \n",
    "    main()\n",
    "    print('Elapsed time: {} seconds'.format(time.time()-t1))\n"
   ]
  },
  {
   "cell_type": "code",
   "execution_count": 65,
   "metadata": {},
   "outputs": [
    {
     "name": "stdout",
     "output_type": "stream",
     "text": [
      "1\n",
      "()\n",
      "fdfdfdbababa\n",
      "<type 'str'>\n",
      "fdfdfdbababa\n"
     ]
    }
   ],
   "source": [
    "str1 = 'fdfdfd'\n",
    "str2 = 'bababa'\n",
    "arr3 = np.array(str1+str2)\n",
    "print(arr3.size)\n",
    "print(arr3.shape)\n",
    "print(arr3)\n",
    "str4 = np.array_str(arr3)\n",
    "print(type(str4))\n",
    "print(str4)"
   ]
  },
  {
   "cell_type": "code",
   "execution_count": 70,
   "metadata": {},
   "outputs": [
    {
     "data": {
      "text/plain": [
       "23"
      ]
     },
     "execution_count": 70,
     "metadata": {},
     "output_type": "execute_result"
    }
   ],
   "source": [
    "1402/60"
   ]
  },
  {
   "cell_type": "code",
   "execution_count": null,
   "metadata": {},
   "outputs": [],
   "source": []
  }
 ],
 "metadata": {
  "kernelspec": {
   "display_name": "Python 2",
   "language": "python",
   "name": "python2"
  },
  "language_info": {
   "codemirror_mode": {
    "name": "ipython",
    "version": 2
   },
   "file_extension": ".py",
   "mimetype": "text/x-python",
   "name": "python",
   "nbconvert_exporter": "python",
   "pygments_lexer": "ipython2",
   "version": "2.7.15rc1"
  }
 },
 "nbformat": 4,
 "nbformat_minor": 2
}
