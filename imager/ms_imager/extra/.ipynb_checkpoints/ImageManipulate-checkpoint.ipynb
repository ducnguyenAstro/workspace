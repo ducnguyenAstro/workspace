{
 "cells": [
  {
   "cell_type": "code",
   "execution_count": 34,
   "metadata": {},
   "outputs": [
    {
     "name": "stdout",
     "output_type": "stream",
     "text": [
      "(0.94873060739483972, 0.99003774966256275, 0.96947510514865853, 0.0090570049682201885)\n",
      "Elapsed time: 1.30005884171 seconds\n"
     ]
    }
   ],
   "source": [
    "import numpy as np\n",
    "import glob\n",
    "import os\n",
    "from PIL import Image\n",
    "import time\n",
    "\n",
    "\n",
    "#unpack tiff files into  string of bit after returning back to 12bit data\n",
    "def tiffUnPack(tiffFile):\n",
    "    img = Image.open(tiffFile)\n",
    "    imgArr = np.array(img)\n",
    "    [row,col] = imgArr.shape\n",
    "    print('row = {}, col = {}'.format(row,col))\n",
    "    \n",
    "    Str = ''\n",
    "    for i in range(row):\n",
    "        print(imgArr[i,:])\n",
    "        tmpStr = ','.join([np.binary_repr(i>>4, width=12) for i in imgArr[i,:]])  \n",
    "        Str += (tmpStr  +'\\n')\n",
    "    return Str\n",
    "\n",
    "\n",
    "#Convert 12 bit raw files into image shape\n",
    "def readRaw(rawFile,height,width):   # convert raw bit file into imageTrue file\n",
    "\n",
    "    data=np.fromfile(rawFile, dtype=np.uint8)\n",
    "    data=np.unpackbits(data)\n",
    "    lent = data.shape[0] - np.remainder(data.shape[0],12)\n",
    "    data=data[:lent].reshape((int(lent/12),12))\n",
    "\n",
    "    imageTrue=np.zeros(data.shape[0],dtype=np.uint16)   # initialize ImageTrue: is right value of Image\n",
    "    for i in range(0,12):\n",
    "        imageTrue+=2**i*data[:,11-i]\n",
    "\n",
    "    imageTrue = np.resize(imageTrue,(height,width))\n",
    "    return imageTrue   #unit16 ndarray format\n",
    "\n",
    "def cropImage(tiffFile, cropFile, left,upper,right,lower):   #(left, upper, right, lower)-tuple.\n",
    "    Img = Image.open(tiffFile)\n",
    "    [row, col] = Img.size\n",
    "    print(row,col)\n",
    "    Img.crop((left,upper,right,lower)).save(cropFile)\n",
    "    return True\n",
    "\n",
    "def imageCorrCoef(tiffFile1, tiffFile2, N):       #calculate Correlation of shifted N bits version based on rows\n",
    "    img1 = np.array(Image.open(tiffFile1))\n",
    "    img2 = np.array(Image.open(tiffFile2))\n",
    "    [row,col] = img1.shape if img1.shape == img2.shape else [-1,-1]  # row = col = -1 if two images are not the same size\n",
    "    \n",
    "    corrCoef = np.array([])\n",
    "    for i in range(row):\n",
    "        #corrCoef = np.append(corrCoef, np.corrcoef(img1[i,:(col-1-N)], img2[i,N:])\n",
    "        corrCoef = np.append(corrCoef,np.corrcoef(img1[i,:(col-N)], img2[i,N:])[0,1])\n",
    "    return corrCoef\n",
    "\n",
    "def main():\n",
    "    N = 0\n",
    "    path = '/home/usrp/workspace/imager/ms_imager/raw_files/EM/Ghosted_03'\n",
    "    tiffFile1 = path + '/sensor2_9_0101-043944_crop.tiff'\n",
    "    tiffFile2 = path + '/sensor2_9_0101-044009_crop.tiff'\n",
    "    corr = imageCorrCoef(tiffFile1, tiffFile2, 8)\n",
    "    #print(corr.shape)\n",
    "    print(np.min(corr), np.max(corr), np.mean(corr), np.std(corr))\n",
    "    #cropImage(tiffFile, tiffFile[:-5]+'_crop.tiff',2000,1000,8000,4000)\n",
    "    #imgStr =     tiffUnPack(tiffFile)\n",
    "    #print(len(imgStr))\n",
    "    #print(imgStr)\n",
    "  \n",
    "if __name__ == \"__main__\":\n",
    "    t1 = time.time()\n",
    "    main()\n",
    "    print('Elapsed time: {} seconds'.format(time.time()-t1))\n"
   ]
  },
  {
   "cell_type": "markdown",
   "metadata": {},
   "source": [
    "# for N = 0\n",
    "(3000,)\n",
    "(0.94523520629880464, 0.9880172771482999, 0.9661742073367241, 0.0095594850906243461)\n",
    "Elapsed time: 1.30185294151 seconds\n",
    "# for N =1\n",
    "(0.94399955099715727, 0.98582317062883906, 0.96303940683557254, 0.0097264482555704593)\n",
    "Elapsed time: 1.95149111748 seconds\n",
    "# for N = 2\n",
    "(0.9461015778295333, 0.98816878215710913, 0.966643013778132, 0.0093268402909218676)\n",
    "Elapsed time: 1.3126039505 seconds\n",
    "# for N = 8\n",
    "(0.94873060739483972, 0.99003774966256275, 0.96947510514865853, 0.0090570049682201885)\n",
    "Elapsed time: 1.31131887436 seconds\n",
    "# for N =16\n",
    "(0.94421562745662468, 0.98710300429156927, 0.96550366386121889, 0.0095596746887708084)\n",
    "Elapsed time: 1.31842279434 seconds\n"
   ]
  },
  {
   "cell_type": "code",
   "execution_count": 4,
   "metadata": {},
   "outputs": [
    {
     "ename": "SyntaxError",
     "evalue": "invalid syntax (<ipython-input-4-30e211b02345>, line 1)",
     "output_type": "error",
     "traceback": [
      "\u001b[0;36m  File \u001b[0;32m\"<ipython-input-4-30e211b02345>\"\u001b[0;36m, line \u001b[0;32m1\u001b[0m\n\u001b[0;31m    [row,col] =[,]\u001b[0m\n\u001b[0m                ^\u001b[0m\n\u001b[0;31mSyntaxError\u001b[0m\u001b[0;31m:\u001b[0m invalid syntax\n"
     ]
    }
   ],
   "source": []
  },
  {
   "cell_type": "code",
   "execution_count": 5,
   "metadata": {},
   "outputs": [
    {
     "name": "stdout",
     "output_type": "stream",
     "text": [
      "0\n",
      "1\n",
      "2\n",
      "3\n",
      "4\n",
      "5\n"
     ]
    }
   ],
   "source": [
    "for i in range(6):\n",
    "    print(i)"
   ]
  },
  {
   "cell_type": "code",
   "execution_count": null,
   "metadata": {},
   "outputs": [],
   "source": []
  }
 ],
 "metadata": {
  "kernelspec": {
   "display_name": "Python 2",
   "language": "python",
   "name": "python2"
  },
  "language_info": {
   "codemirror_mode": {
    "name": "ipython",
    "version": 2
   },
   "file_extension": ".py",
   "mimetype": "text/x-python",
   "name": "python",
   "nbconvert_exporter": "python",
   "pygments_lexer": "ipython2",
   "version": "2.7.15rc1"
  }
 },
 "nbformat": 4,
 "nbformat_minor": 2
}
