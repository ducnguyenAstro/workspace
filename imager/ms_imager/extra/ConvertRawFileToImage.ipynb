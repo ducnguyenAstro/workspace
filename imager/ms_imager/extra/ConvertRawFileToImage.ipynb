{
 "cells": [
  {
   "cell_type": "code",
   "execution_count": 4,
   "metadata": {},
   "outputs": [
    {
     "name": "stdout",
     "output_type": "stream",
     "text": [
      "(106439680,)\n",
      "Elapsed time: 4.083697080612183 seconds\n"
     ]
    }
   ],
   "source": [
    "\n",
    "#Convert 12 bit raw files into image shape\n",
    "import numpy as np\n",
    "from PIL import Image \n",
    "import time\n",
    "\n",
    "HEIGHT = 7096\n",
    "WIDTH = 10000\n",
    "\n",
    "def read_uint12(imageRaw,height,width):   # convert raw bit file into imageTrue file\n",
    "\n",
    "    imgData=np.fromfile(imageRaw, dtype=np.uint8)\n",
    "    print(imgData.shape)\n",
    "    data=np.unpackbits(imgData)\n",
    "    #print(data)\n",
    "    lent = data.shape[0] - np.remainder(data.shape[0],12)\n",
    "    data=data[:lent].reshape((int(lent/12),12))\n",
    "\n",
    "    imageTrue=np.zeros(data.shape[0],dtype=np.uint16)   # initialize ImageTrue: is right value of Image\n",
    "    for i in range(0,12):\n",
    "        imageTrue+=2**i*data[:,11-i]\n",
    "\n",
    "    imageTrue = np.resize(imageTrue,(height,width))\n",
    "    return imageTrue\n",
    "\n",
    "def saveImage(imageTrue, imageName):\n",
    "    im = Image.fromarray(imageTrue)\n",
    "    im.save(imageName)\n",
    "    \n",
    "if __name__ == \"__main__\":\n",
    "    t1 = time.time()\n",
    "    rawFile = '/home/usrp/workspace/imager/ms_imager/raw_files/BC3/sensor2_E100_G5_Modesto2.raw'\n",
    "    imageName = '/home/usrp/workspace/imager/ms_imager/raw_files/BC3/sensor2_E100_G5_Modesto2_01.tif'\n",
    "    saveImage(read_uint12(rawFile, HEIGHT, WIDTH), imageName)\n",
    "   \n",
    "    #main()\n",
    "    print('Elapsed time: {} seconds'.format(time.time()-t1))"
   ]
  },
  {
   "cell_type": "code",
   "execution_count": null,
   "metadata": {},
   "outputs": [],
   "source": []
  }
 ],
 "metadata": {
  "kernelspec": {
   "display_name": "Python 3",
   "language": "python",
   "name": "python3"
  },
  "language_info": {
   "codemirror_mode": {
    "name": "ipython",
    "version": 3
   },
   "file_extension": ".py",
   "mimetype": "text/x-python",
   "name": "python",
   "nbconvert_exporter": "python",
   "pygments_lexer": "ipython3",
   "version": "3.6.5"
  }
 },
 "nbformat": 4,
 "nbformat_minor": 2
}
