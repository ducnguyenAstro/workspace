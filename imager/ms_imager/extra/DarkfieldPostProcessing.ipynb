{
 "cells": [
  {
   "cell_type": "code",
   "execution_count": 62,
   "metadata": {},
   "outputs": [
    {
     "name": "stdout",
     "output_type": "stream",
     "text": [
      "4 files found: \n",
      "5312\n",
      "-711.8082996617813\n",
      "-1808.0\n",
      "-1096.1917\n",
      "-42.19171\n",
      "-42.19171\n",
      "/home/usrp/workspace/imager/BC4_star shots/Sensor1/BC4_SkyCal_sensor1_sensor1_E10000_G5_NOTSPEC3_clean.tiff.....Done\n",
      "65494\n",
      "4032.7804426437433\n",
      "58374.0\n",
      "58374.0\n",
      "58374.0\n",
      "58374.0\n",
      "/home/usrp/workspace/imager/BC4_star shots/Sensor1/BC4_SkyCal_sensor1_sensor1_E10000_G5_NOTSPEC3_clean_clean.tiff.....Done\n",
      "5152\n",
      "-723.931501465614\n",
      "-1968.0\n",
      "-1244.0685\n",
      "-104.06848\n",
      "-104.06848\n",
      "/home/usrp/workspace/imager/BC4_star shots/Sensor1/BC4_SkyCal_sensor1_sensor1_E10000_G5_NOTSPEC7_clean.tiff.....Done\n",
      "65432\n",
      "4044.591345166291\n",
      "58312.0\n",
      "58312.0\n",
      "58312.0\n",
      "58312.0\n",
      "/home/usrp/workspace/imager/BC4_star shots/Sensor1/BC4_SkyCal_sensor1_sensor1_E10000_G5_NOTSPEC7_clean_clean.tiff.....Done\n",
      "Processing time = 44.17933177947998 seconds\n"
     ]
    }
   ],
   "source": [
    "import numpy as np\n",
    "import glob\n",
    "import os\n",
    "from PIL import Image\n",
    "import time\n",
    "from scipy import signal\n",
    "\n",
    "\n",
    "def DFSubtract(tiffImg, tiffDF):   \n",
    "    '''  This does NOT work well if DF images are not clean and at low thermal noise\n",
    "    #subtract tiffImg from tiff Darkfield\n",
    "    #input : (str/str)tiff file at the same size, absolute locations\n",
    "    # output: (str) cleaned tiff file image location \n",
    "    '''\n",
    "\n",
    "    imgArr = np.array(Image.open(tiffImg))\n",
    "    #print(type(imgArr))\n",
    "    print(imgArr[2993,8441])\n",
    "    DFArr = np.array(Image.open(tiffDF))\n",
    "    offset = np.mean(imgArr) - np.mean(DFArr)    # if offset is neg: DF images more read noisy --> thermal prob??\n",
    "    print(offset)\n",
    "    cleanedImgArr = np.subtract(imgArr.astype(np.float32),DFArr.astype(np.float32)) #cleanImgArr.type change to np.float322\n",
    "    print(cleanedImgArr[2993,8441])\n",
    "    # adding offset caused by thermal noise inconsistancy\n",
    "    #print (np.amin(cleanedImgArr))\n",
    "    if offset < 0:\n",
    "        cleanedImgArr += abs(offset)\n",
    "    print(cleanedImgArr[2993,8441])\n",
    "    # filterout outliers \n",
    "    meanImgArr = scipy.signal.medfilt2d(cleanedImgArr)    \n",
    "    cleanedImgArr = np.where(cleanedImgArr > 0, cleanedImgArr, meanImgArr)\n",
    "    print(cleanedImgArr[2993,8441])\n",
    "    cleanedImg = Image.fromarray(cleanedImgArr.astype('uint16')) \n",
    "    print(cleanedImgArr[2993,8441])\n",
    "    filePath, tiffFileName = os.path.split(tiffImg)   \n",
    "    #print(filePath + '\\n'   + tiffFileName)\n",
    "    fileName = tiffFileName[:-5] + '_clean.tiff' \n",
    "    cleanedFile = filePath + '/' + fileName        # cleaned file abs location\n",
    "    \n",
    "    #cleanedImg.save(cleanedFile)          # save as an tiff file\n",
    "    \n",
    "    return cleanedFile + '.....Done'\n",
    "    \n",
    "def DFSuctractForMany():\n",
    "    path = \"/home/usrp/workspace/imager/BC4_star shots/Sensor1/\"\n",
    "    DFfile = \"sensor1_E10000_G5_D_avg.tiff\"    #DF file name\n",
    "    files = glob.glob(path + '*_E10000_*')      #   find images with the same Exposure and Gain\n",
    "    files.remove(path+DFfile)\n",
    "    #print(path+DFfile)\n",
    "    print ('{} files found: '.format(len(files)))\n",
    "    files.sort()\n",
    "    for tiffFile in files:\n",
    "        #print(tiffFile)\n",
    "        print(DFSubtract(tiffFile, path+DFfile))\n",
    "        \n",
    "if __name__ == \"__main__\":\n",
    "    t0 = time.time()\n",
    "    DFSuctractForMany()\n",
    "    print('Processing time = {} seconds'.format(time.time() - t0))"
   ]
  },
  {
   "cell_type": "code",
   "execution_count": 54,
   "metadata": {},
   "outputs": [
    {
     "name": "stdout",
     "output_type": "stream",
     "text": [
      "[[3 1 0]\n",
      " [2 3 1]\n",
      " [4 4 3]]\n",
      "2.3333333333333335\n"
     ]
    }
   ],
   "source": [
    "import numpy as np\n",
    "\n",
    "a= np.random.randint(5, size =(3,3))\n",
    "print(a)\n",
    "print(np.mean(a))"
   ]
  },
  {
   "cell_type": "code",
   "execution_count": 53,
   "metadata": {},
   "outputs": [
    {
     "ename": "SyntaxError",
     "evalue": "Missing parentheses in call to 'print'. Did you mean print(a)? (<ipython-input-53-da1608c9d425>, line 1)",
     "output_type": "error",
     "traceback": [
      "\u001b[0;36m  File \u001b[0;32m\"<ipython-input-53-da1608c9d425>\"\u001b[0;36m, line \u001b[0;32m1\u001b[0m\n\u001b[0;31m    print a\u001b[0m\n\u001b[0m          ^\u001b[0m\n\u001b[0;31mSyntaxError\u001b[0m\u001b[0;31m:\u001b[0m Missing parentheses in call to 'print'. Did you mean print(a)?\n"
     ]
    }
   ],
   "source": [
    "print a\n"
   ]
  },
  {
   "cell_type": "code",
   "execution_count": null,
   "metadata": {},
   "outputs": [],
   "source": []
  }
 ],
 "metadata": {
  "kernelspec": {
   "display_name": "Python 3",
   "language": "python",
   "name": "python3"
  },
  "language_info": {
   "codemirror_mode": {
    "name": "ipython",
    "version": 3
   },
   "file_extension": ".py",
   "mimetype": "text/x-python",
   "name": "python",
   "nbconvert_exporter": "python",
   "pygments_lexer": "ipython3",
   "version": "3.6.5"
  }
 },
 "nbformat": 4,
 "nbformat_minor": 2
}
