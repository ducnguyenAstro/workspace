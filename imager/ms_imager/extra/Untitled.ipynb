{
 "cells": [
  {
   "cell_type": "code",
   "execution_count": 22,
   "metadata": {},
   "outputs": [
    {
     "name": "stdout",
     "output_type": "stream",
     "text": [
      "<type 'complex'>\n",
      "(3+2j)\n",
      "Gray\n"
     ]
    }
   ],
   "source": [
    "import numpy as np\n",
    "z = 3 + 2.j\n",
    "print(type(z))\n",
    "#z.imag = np.random.randint(6)\n",
    "#z.real = np.random.randint(10)\n",
    "print(z)\n",
    "\n",
    "if z  == (2.j + 3.0):\n",
    "    print(\"Gray\")\n",
    "else:\n",
    "    print(\"Non Gray Code\")"
   ]
  },
  {
   "cell_type": "code",
   "execution_count": null,
   "metadata": {},
   "outputs": [],
   "source": [
    "z = 6+"
   ]
  }
 ],
 "metadata": {
  "kernelspec": {
   "display_name": "Python 2",
   "language": "python",
   "name": "python2"
  },
  "language_info": {
   "codemirror_mode": {
    "name": "ipython",
    "version": 2
   },
   "file_extension": ".py",
   "mimetype": "text/x-python",
   "name": "python",
   "nbconvert_exporter": "python",
   "pygments_lexer": "ipython2",
   "version": "2.7.15rc1"
  }
 },
 "nbformat": 4,
 "nbformat_minor": 2
}
