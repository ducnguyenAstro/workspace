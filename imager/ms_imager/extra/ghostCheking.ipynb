{
 "cells": [
  {
   "cell_type": "code",
   "execution_count": 8,
   "metadata": {},
   "outputs": [
    {
     "name": "stdout",
     "output_type": "stream",
     "text": [
      "/home/usrp/workspace/imager/ms_imager/extra\n",
      "processing\n",
      "Completed  ghostCheking263181310 in 332.7903881072998 seconds\n"
     ]
    }
   ],
   "source": [
    "# Ghosting check by using Column diference\n",
    "import numpy as np\n",
    "import os\n",
    "from PIL import Image\n",
    "import glob\n",
    "import time\n",
    "\n",
    "#dirPath = os.getcwd()\n",
    "#fileName = dirPath + \"/sensor2_E100_G5_Modesto2.tiff\"\n",
    "\n",
    "\n",
    "try:\n",
    "    #files = glob.glob(os.getcwd()+'../raw_files/*.raw') \n",
    "    print(os.getcwd())\n",
    "    files = glob.glob('/home/usrp/workspace/imager/ms_imager/raw_files/EM/Lval_Testing/sensor1/*.tiff')\n",
    "    print(\"processing\")\n",
    "    t1 = time.time()\n",
    "except:\n",
    "    print (\"Can not find images\")\n",
    "   \n",
    "\n",
    "files.sort()\n",
    "fileStat = np.array(['file Name', ' min', ' max', ' average', ' standard deviation'])\n",
    "\n",
    "HEIGHT_TEST = 7096\n",
    "\n",
    "storeFileName = \"ghostCheking\" + time.strftime(\"%j%H%M%S\", time.gmtime())\n",
    "\n",
    "f = open(storeFileName, \"w\")\n",
    "\n",
    "for fileName in files:\n",
    "    \n",
    "    img = Image.open(fileName)\n",
    "    imgArr = np.array(img)/16\n",
    "\n",
    "    [row,col] = imgArr.shape\n",
    "    a = np.array([])\n",
    "    \n",
    "    for i in range(col-1):\n",
    "        temp =np.abs(imgArr[:HEIGHT_TEST,i]-imgArr[:HEIGHT_TEST,i+1])\n",
    "        a = np.append(a,np.average(temp))\n",
    "    \n",
    "    fileStat = np.append(fileStat,[fileName, np.min(a), np.max(a), np.average(a), np.std(a) ])\n",
    "    #f.write(fileName + str(np.min(a)) +str(np.max(a)) + str(np.average(a)) + str(np.std(a) + \"\\n\"))\n",
    "\n",
    "t2 = time.time()    \n",
    "f.write(np.array2string(fileStat,separator = '    '))\n",
    "f.write(\"\\n \\nElapsed in : {} seconds\".format(t2-t1))\n",
    "\n",
    "f.close()\n",
    " \n",
    "#print(fileStat)\n",
    "print(\"Completed \",storeFileName, \"in {} seconds\".format(t2-t1))  "
   ]
  },
  {
   "cell_type": "code",
   "execution_count": 2,
   "metadata": {},
   "outputs": [
    {
     "name": "stdout",
     "output_type": "stream",
     "text": [
      "hellohow are you doing?\n"
     ]
    }
   ],
   "source": [
    "str1 = 'hello'\n",
    "print(str1 +\"how are you doing?\")"
   ]
  },
  {
   "cell_type": "code",
   "execution_count": null,
   "metadata": {},
   "outputs": [],
   "source": []
  }
 ],
 "metadata": {
  "kernelspec": {
   "display_name": "Python 3",
   "language": "python",
   "name": "python3"
  },
  "language_info": {
   "codemirror_mode": {
    "name": "ipython",
    "version": 3
   },
   "file_extension": ".py",
   "mimetype": "text/x-python",
   "name": "python",
   "nbconvert_exporter": "python",
   "pygments_lexer": "ipython3",
   "version": "3.6.5"
  }
 },
 "nbformat": 4,
 "nbformat_minor": 2
}
